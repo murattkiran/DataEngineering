{
 "cells": [
  {
   "cell_type": "code",
   "execution_count": null,
   "id": "8e73dd26-f7b4-42f3-98d0-2718c8e9f10e",
   "metadata": {},
   "outputs": [],
   "source": []
  },
  {
   "attachments": {},
   "cell_type": "markdown",
   "id": "2c87d767-5823-4d4a-94f0-7034d9ec990a",
   "metadata": {},
   "source": [
    "## Q1. Knowing Docker Tags\n",
    "\n",
    "Which tag has the following text? - Automatically remove the container when it exits\n",
    "\n",
    "- `--delete`\n",
    "- `--rc`\n",
    "- `--rmc`\n",
    "- **`--rm`**\n"
   ]
  },
  {
   "attachments": {},
   "cell_type": "markdown",
   "id": "adc4c29d-0759-4219-88a8-87ec5decb8e0",
   "metadata": {},
   "source": [
    "## Q2. Understanding docker first run \n",
    "\n",
    "Run docker with the python:3.9 image in an interactive mode and the entrypoint of bash.\n",
    "Now check the python modules that are installed ( use ```pip list``` ). \n",
    "\n",
    "What is version of the package *wheel* ?\n",
    "\n",
    "- 0.42.0\n",
    "- 1.0.0\n",
    "- 23.0.1\n",
    "- 58.1.0"
   ]
  },
  {
   "cell_type": "code",
   "execution_count": null,
   "id": "369fe467-7a2a-4774-97c4-7fe27fe79f47",
   "metadata": {},
   "outputs": [],
   "source": [
    "!docker run --rm -it --entrypoint bash python:3.9 -c \"pip show wheel | grep Version\""
   ]
  },
  {
   "attachments": {},
   "cell_type": "markdown",
   "id": "914e957b-cd7c-44ef-989d-9467d3b7d357",
   "metadata": {},
   "source": [
    "Version: 0.42.0"
   ]
  },
  {
   "attachments": {},
   "cell_type": "markdown",
   "id": "35c681a0-3e89-4e6f-af64-5d3d51eac4ed",
   "metadata": {},
   "source": [
    "# Prepare Postgres\n",
    "\n",
    "Run Postgres and load data as shown in the videos\n",
    "We'll use the green taxi trips from September 2019:\n",
    "\n",
    "```wget https://github.com/DataTalksClub/nyc-tlc-data/releases/download/green/green_tripdata_2019-09.csv.gz```\n",
    "\n",
    "You will also need the dataset with zones:\n",
    "\n",
    "```wget https://s3.amazonaws.com/nyc-tlc/misc/taxi+_zone_lookup.csv```\n",
    "\n",
    "Download this data and put it into Postgres (with jupyter notebooks or with a pipeline)"
   ]
  },
  {
   "attachments": {},
   "cell_type": "markdown",
   "id": "61dfd5f5-c5d0-4d06-bc26-ec9cc0d4f01b",
   "metadata": {},
   "source": [
    "## Q3. Count records \n",
    "\n",
    "How many taxi trips were totally made on September 18th 2019?\n",
    "\n",
    "Tip: started and finished on 2019-09-18. \n",
    "\n",
    "Remember that `lpep_pickup_datetime` and `lpep_dropoff_datetime` columns are in the format timestamp (date and hour+min+sec) and not in date.\n",
    "\n",
    "- 15767\n",
    "- 15612\n",
    "- 15859\n",
    "- 89009"
   ]
  },
  {
   "attachments": {},
   "cell_type": "markdown",
   "id": "057dfd42-ec11-45ce-9fc0-f40afb939d05",
   "metadata": {},
   "source": [
    "```sql\n",
    "SELECT COUNT(*) AS total_trips\n",
    "FROM taxi_trips\n",
    "WHERE DATE(lpep_pickup_datetime) = '2019-09-18' AND DATE(lpep_dropoff_datetime) = '2019-09-1';\n"
   ]
  },
  {
   "attachments": {},
   "cell_type": "markdown",
   "id": "a448ff2f-1c55-4181-8449-08b9e59f9e12",
   "metadata": {},
   "source": [
    "**15612**"
   ]
  },
  {
   "attachments": {},
   "cell_type": "markdown",
   "id": "477082b9-70fe-41e8-ba5d-f45ef99f8a0c",
   "metadata": {},
   "source": [
    "## Q4. Largest trip for each day\n",
    "\n",
    "Which was the pick up day with the largest trip distance\n",
    "Use the pick up time for your calculations.\n",
    "\n",
    "- 2019-09-18\n",
    "- 2019-09-16\n",
    "- 2019-09-26\n",
    "- 2019-09-21"
   ]
  },
  {
   "attachments": {},
   "cell_type": "markdown",
   "id": "6281047c-c20d-42a0-86eb-62b3727853ec",
   "metadata": {},
   "source": [
    "```sql\n",
    "SELECT \n",
    "  CAST(lpep_pickup_datetime AS DATE) AS pick_up_day, \n",
    "  MAX(trip_distance) AS largest_trip_distance\n",
    "FROM green_taxi_data\n",
    "GROUP BY pick_up_day\n",
    "ORDER BY largest_trip_distance DESC\n",
    "LIMIT 10;"
   ]
  },
  {
   "attachments": {},
   "cell_type": "markdown",
   "id": "692f5133-6c7b-4db4-9a6d-7ff7648fafb0",
   "metadata": {},
   "source": [
    "```sql\n",
    "| pick_up_day | largest_trip_distance |\n",
    "|--------------|------------------------|\n",
    "| 2019-09-26   | 341.64                 |\n",
    "| 2019-09-21   | 135.53                 |\n",
    "| 2019-09-16   | 114.3                  |\n",
    "| 2019-09-28   | 89.64                  |\n",
    "| 2019-09-24   | 82.12                  |\n",
    "| 2019-09-18   | 70.28                  |\n",
    "| 2019-09-10   | 69.67                  |\n",
    "| 2019-09-27   | 68.41                  |\n",
    "| 2019-09-02   | 61.69                  |\n",
    "| 2019-09-19   | 61.26                  |\n"
   ]
  },
  {
   "attachments": {},
   "cell_type": "markdown",
   "id": "a87d806f-2f28-405e-8b20-f1e99c7fd8b0",
   "metadata": {},
   "source": [
    "## Q5. Three biggest pick up Boroughs\n",
    "\n",
    "Consider lpep_pickup_datetime in '2019-09-18' and ignoring Borough has Unknown\n",
    "\n",
    "Which were the 3 pick up Boroughs that had a sum of total_amount superior to 50000?\n",
    " \n",
    "- \"Brooklyn\" \"Manhattan\" \"Queens\"\n",
    "- \"Bronx\" \"Brooklyn\" \"Manhattan\"\n",
    "- \"Bronx\" \"Manhattan\" \"Queens\" \n",
    "- \"Brooklyn\" \"Queens\" \"Staten Island\""
   ]
  },
  {
   "attachments": {},
   "cell_type": "markdown",
   "id": "8efd9cb8-5ce2-4664-9400-2aa25078ece9",
   "metadata": {},
   "source": [
    "```sql\n",
    "SELECT z.\"Borough\", SUM(t.total_amount) AS total_amount_sum\n",
    "FROM green_taxi_data t\n",
    "JOIN zones z ON t.\"PULocationID\" = z.\"LocationID\"\n",
    "WHERE DATE(t.lpep_pickup_datetime) = '2019-09-18' AND z.\"Borough\" != 'Unknown'\n",
    "GROUP BY z.\"Borough\"\n",
    "HAVING SUM(t.total_amount) > 50000\n",
    "ORDER BY total_amount_sum DESC\n",
    "LIMIT 3;"
   ]
  },
  {
   "attachments": {},
   "cell_type": "markdown",
   "id": "945e90c8-f203-4b66-9510-be6f40b70ccc",
   "metadata": {},
   "source": [
    "```sql\n",
    "\"Borough\"\t\"total_amount_sum\"\n",
    "\"Brooklyn\"\t96333.24000000124\n",
    "\"Manhattan\"\t92271.30000000076\n",
    "\"Queens\"\t78671.71000000054"
   ]
  },
  {
   "attachments": {},
   "cell_type": "markdown",
   "id": "164d4f1b-7e84-4748-8f6a-e36c636b746b",
   "metadata": {},
   "source": [
    "## Q6. Largest tip\n",
    "\n",
    "For the passengers picked up in September 2019 in the zone name Astoria which was the drop off zone that had the largest tip?\n",
    "We want the name of the zone, not the id.\n",
    "\n",
    "Note: it's not a typo, it's `tip` , not `trip`\n",
    "\n",
    "- Central Park\n",
    "- Jamaica\n",
    "- JFK Airport\n",
    "- Long Island City/Queens Plaza"
   ]
  },
  {
   "attachments": {},
   "cell_type": "markdown",
   "id": "73a15f4d-d26e-43f3-b908-86c6322be7b3",
   "metadata": {},
   "source": [
    "```sql\n",
    "SELECT\n",
    "  DATE(t.lpep_pickup_datetime) AS pickup_day,\n",
    "  z_pickup.\"Zone\" AS pickup_zone,\n",
    "  z_dropoff.\"Zone\" AS dropoff_zone,\n",
    "  t.tip_amount AS tip_amount\n",
    "FROM\n",
    "  green_taxi_data t\n",
    "LEFT JOIN\n",
    "  zones z_pickup ON t.\"PULocationID\" = z_pickup.\"LocationID\"\n",
    "LEFT JOIN\n",
    "  zones z_dropoff ON t.\"DOLocationID\" = z_dropoff.\"LocationID\"\n",
    "WHERE\n",
    "  date_trunc('month', t.lpep_pickup_datetime) = '2019-09-01'\n",
    "  AND z_pickup.\"Zone\" = 'Astoria'\n",
    "ORDER BY\n",
    "  t.tip_amount DESC\n",
    "LIMIT 1;"
   ]
  },
  {
   "attachments": {},
   "cell_type": "markdown",
   "id": "585381bb-affc-49da-b749-0b1e7eea4354",
   "metadata": {},
   "source": [
    "```sql\n",
    "\"pickup_day\"\t\"pickup_zone\"\t\"dropoff_zone\"\t\"tip_amount\"\n",
    "\"2019-09-08\"\t\"Astoria\"\t\"JFK Airport\"\t62.31"
   ]
  },
  {
   "attachments": {},
   "cell_type": "markdown",
   "id": "5772d186-88fb-48f1-9510-e06fb3ab3009",
   "metadata": {},
   "source": [
    "## Terraform\n",
    "\n",
    "In this section homework we'll prepare the environment by creating resources in GCP with Terraform.\n",
    "\n",
    "In your VM on GCP/Laptop/GitHub Codespace install Terraform. \n",
    "Copy the files from the course repo\n",
    "[here](https://github.com/DataTalksClub/data-engineering-zoomcamp/tree/main/01-docker-terraform/1_terraform_gcp/terraform) to your VM/Laptop/GitHub Codespace.\n",
    "\n",
    "Modify the files as necessary to create a GCP Bucket and Big Query Dataset.\n",
    "\n",
    "\n",
    "## Q7. Creating Resources\n",
    "\n",
    "After updating the main.tf and variable.tf files run:\n",
    "\n",
    "```\n",
    "terraform apply\n",
    "```"
   ]
  },
  {
   "cell_type": "code",
   "execution_count": null,
   "id": "dcc8e0b8-534d-4edb-ab66-27308d539326",
   "metadata": {},
   "outputs": [],
   "source": []
  }
 ],
 "metadata": {
  "kernelspec": {
   "display_name": "Python 3 (ipykernel)",
   "language": "python",
   "name": "python3"
  },
  "language_info": {
   "codemirror_mode": {
    "name": "ipython",
    "version": 3
   },
   "file_extension": ".py",
   "mimetype": "text/x-python",
   "name": "python",
   "nbconvert_exporter": "python",
   "pygments_lexer": "ipython3",
   "version": "3.10.13"
  }
 },
 "nbformat": 4,
 "nbformat_minor": 5
}
